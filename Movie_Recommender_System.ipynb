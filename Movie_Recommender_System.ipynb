{
 "cells": [
  {
   "cell_type": "code",
   "execution_count": 2,
   "id": "f3245b95",
   "metadata": {},
   "outputs": [],
   "source": [
    "import pandas as pd\n",
    "import numpy as np\n",
    "import re"
   ]
  },
  {
   "cell_type": "code",
   "execution_count": 3,
   "id": "cdac3ea3",
   "metadata": {},
   "outputs": [],
   "source": [
    "movie=pd.read_csv('C:\\\\Users\\\\LENOVO\\\\Documents\\\\MovieGenre.csv',encoding = 'latin1')"
   ]
  },
  {
   "cell_type": "code",
   "execution_count": 4,
   "id": "ed874cd3",
   "metadata": {},
   "outputs": [
    {
     "data": {
      "text/html": [
       "<div>\n",
       "<style scoped>\n",
       "    .dataframe tbody tr th:only-of-type {\n",
       "        vertical-align: middle;\n",
       "    }\n",
       "\n",
       "    .dataframe tbody tr th {\n",
       "        vertical-align: top;\n",
       "    }\n",
       "\n",
       "    .dataframe thead th {\n",
       "        text-align: right;\n",
       "    }\n",
       "</style>\n",
       "<table border=\"1\" class=\"dataframe\">\n",
       "  <thead>\n",
       "    <tr style=\"text-align: right;\">\n",
       "      <th></th>\n",
       "      <th>imdbId</th>\n",
       "      <th>Imdb Link</th>\n",
       "      <th>Title</th>\n",
       "      <th>IMDB Score</th>\n",
       "      <th>Genre</th>\n",
       "      <th>Poster</th>\n",
       "    </tr>\n",
       "  </thead>\n",
       "  <tbody>\n",
       "    <tr>\n",
       "      <th>0</th>\n",
       "      <td>114709</td>\n",
       "      <td>http://www.imdb.com/title/tt114709</td>\n",
       "      <td>Toy Story (1995)</td>\n",
       "      <td>8.3</td>\n",
       "      <td>Animation|Adventure|Comedy</td>\n",
       "      <td>https://images-na.ssl-images-amazon.com/images...</td>\n",
       "    </tr>\n",
       "    <tr>\n",
       "      <th>1</th>\n",
       "      <td>113497</td>\n",
       "      <td>http://www.imdb.com/title/tt113497</td>\n",
       "      <td>Jumanji (1995)</td>\n",
       "      <td>6.9</td>\n",
       "      <td>Action|Adventure|Family</td>\n",
       "      <td>https://images-na.ssl-images-amazon.com/images...</td>\n",
       "    </tr>\n",
       "    <tr>\n",
       "      <th>2</th>\n",
       "      <td>113228</td>\n",
       "      <td>http://www.imdb.com/title/tt113228</td>\n",
       "      <td>Grumpier Old Men (1995)</td>\n",
       "      <td>6.6</td>\n",
       "      <td>Comedy|Romance</td>\n",
       "      <td>https://images-na.ssl-images-amazon.com/images...</td>\n",
       "    </tr>\n",
       "    <tr>\n",
       "      <th>3</th>\n",
       "      <td>114885</td>\n",
       "      <td>http://www.imdb.com/title/tt114885</td>\n",
       "      <td>Waiting to Exhale (1995)</td>\n",
       "      <td>5.7</td>\n",
       "      <td>Comedy|Drama|Romance</td>\n",
       "      <td>https://images-na.ssl-images-amazon.com/images...</td>\n",
       "    </tr>\n",
       "    <tr>\n",
       "      <th>4</th>\n",
       "      <td>113041</td>\n",
       "      <td>http://www.imdb.com/title/tt113041</td>\n",
       "      <td>Father of the Bride Part II (1995)</td>\n",
       "      <td>5.9</td>\n",
       "      <td>Comedy|Family|Romance</td>\n",
       "      <td>https://images-na.ssl-images-amazon.com/images...</td>\n",
       "    </tr>\n",
       "    <tr>\n",
       "      <th>5</th>\n",
       "      <td>113277</td>\n",
       "      <td>http://www.imdb.com/title/tt113277</td>\n",
       "      <td>Heat (1995)</td>\n",
       "      <td>8.2</td>\n",
       "      <td>Action|Crime|Drama</td>\n",
       "      <td>https://images-na.ssl-images-amazon.com/images...</td>\n",
       "    </tr>\n",
       "  </tbody>\n",
       "</table>\n",
       "</div>"
      ],
      "text/plain": [
       "   imdbId                           Imdb Link  \\\n",
       "0  114709  http://www.imdb.com/title/tt114709   \n",
       "1  113497  http://www.imdb.com/title/tt113497   \n",
       "2  113228  http://www.imdb.com/title/tt113228   \n",
       "3  114885  http://www.imdb.com/title/tt114885   \n",
       "4  113041  http://www.imdb.com/title/tt113041   \n",
       "5  113277  http://www.imdb.com/title/tt113277   \n",
       "\n",
       "                                Title  IMDB Score                       Genre  \\\n",
       "0                    Toy Story (1995)         8.3  Animation|Adventure|Comedy   \n",
       "1                      Jumanji (1995)         6.9     Action|Adventure|Family   \n",
       "2             Grumpier Old Men (1995)         6.6              Comedy|Romance   \n",
       "3            Waiting to Exhale (1995)         5.7        Comedy|Drama|Romance   \n",
       "4  Father of the Bride Part II (1995)         5.9       Comedy|Family|Romance   \n",
       "5                         Heat (1995)         8.2          Action|Crime|Drama   \n",
       "\n",
       "                                              Poster  \n",
       "0  https://images-na.ssl-images-amazon.com/images...  \n",
       "1  https://images-na.ssl-images-amazon.com/images...  \n",
       "2  https://images-na.ssl-images-amazon.com/images...  \n",
       "3  https://images-na.ssl-images-amazon.com/images...  \n",
       "4  https://images-na.ssl-images-amazon.com/images...  \n",
       "5  https://images-na.ssl-images-amazon.com/images...  "
      ]
     },
     "execution_count": 4,
     "metadata": {},
     "output_type": "execute_result"
    }
   ],
   "source": [
    "movie.head(6)"
   ]
  },
  {
   "cell_type": "code",
   "execution_count": 5,
   "id": "ed6a3c70",
   "metadata": {},
   "outputs": [
    {
     "data": {
      "text/plain": [
       "Index(['imdbId', 'Imdb Link', 'Title', 'IMDB Score', 'Genre', 'Poster'], dtype='object')"
      ]
     },
     "execution_count": 5,
     "metadata": {},
     "output_type": "execute_result"
    }
   ],
   "source": [
    "movie.columns"
   ]
  },
  {
   "cell_type": "code",
   "execution_count": 6,
   "id": "73fdfdd0",
   "metadata": {},
   "outputs": [],
   "source": [
    "movie.drop(['imdbId', 'Imdb Link', 'IMDB Score', 'Poster'],axis=1,inplace=True)"
   ]
  },
  {
   "cell_type": "code",
   "execution_count": 7,
   "id": "89610f40",
   "metadata": {},
   "outputs": [
    {
     "data": {
      "text/html": [
       "<div>\n",
       "<style scoped>\n",
       "    .dataframe tbody tr th:only-of-type {\n",
       "        vertical-align: middle;\n",
       "    }\n",
       "\n",
       "    .dataframe tbody tr th {\n",
       "        vertical-align: top;\n",
       "    }\n",
       "\n",
       "    .dataframe thead th {\n",
       "        text-align: right;\n",
       "    }\n",
       "</style>\n",
       "<table border=\"1\" class=\"dataframe\">\n",
       "  <thead>\n",
       "    <tr style=\"text-align: right;\">\n",
       "      <th></th>\n",
       "      <th>Title</th>\n",
       "      <th>Genre</th>\n",
       "    </tr>\n",
       "  </thead>\n",
       "  <tbody>\n",
       "    <tr>\n",
       "      <th>0</th>\n",
       "      <td>Toy Story (1995)</td>\n",
       "      <td>Animation|Adventure|Comedy</td>\n",
       "    </tr>\n",
       "    <tr>\n",
       "      <th>1</th>\n",
       "      <td>Jumanji (1995)</td>\n",
       "      <td>Action|Adventure|Family</td>\n",
       "    </tr>\n",
       "    <tr>\n",
       "      <th>2</th>\n",
       "      <td>Grumpier Old Men (1995)</td>\n",
       "      <td>Comedy|Romance</td>\n",
       "    </tr>\n",
       "    <tr>\n",
       "      <th>3</th>\n",
       "      <td>Waiting to Exhale (1995)</td>\n",
       "      <td>Comedy|Drama|Romance</td>\n",
       "    </tr>\n",
       "    <tr>\n",
       "      <th>4</th>\n",
       "      <td>Father of the Bride Part II (1995)</td>\n",
       "      <td>Comedy|Family|Romance</td>\n",
       "    </tr>\n",
       "    <tr>\n",
       "      <th>5</th>\n",
       "      <td>Heat (1995)</td>\n",
       "      <td>Action|Crime|Drama</td>\n",
       "    </tr>\n",
       "  </tbody>\n",
       "</table>\n",
       "</div>"
      ],
      "text/plain": [
       "                                Title                       Genre\n",
       "0                    Toy Story (1995)  Animation|Adventure|Comedy\n",
       "1                      Jumanji (1995)     Action|Adventure|Family\n",
       "2             Grumpier Old Men (1995)              Comedy|Romance\n",
       "3            Waiting to Exhale (1995)        Comedy|Drama|Romance\n",
       "4  Father of the Bride Part II (1995)       Comedy|Family|Romance\n",
       "5                         Heat (1995)          Action|Crime|Drama"
      ]
     },
     "execution_count": 7,
     "metadata": {},
     "output_type": "execute_result"
    }
   ],
   "source": [
    "movie.head(6)"
   ]
  },
  {
   "cell_type": "code",
   "execution_count": 8,
   "id": "99f0e7b3",
   "metadata": {},
   "outputs": [
    {
     "data": {
      "text/plain": [
       "(40108, 2)"
      ]
     },
     "execution_count": 8,
     "metadata": {},
     "output_type": "execute_result"
    }
   ],
   "source": [
    "movie.shape"
   ]
  },
  {
   "cell_type": "code",
   "execution_count": 9,
   "id": "ea2731b6",
   "metadata": {},
   "outputs": [],
   "source": [
    "#we have to clean our title with regex inorder to remove extra character\n",
    "def Clean_Title(Title):\n",
    "    return re.sub(\"[^a-zA-Z0-9 ]\",\"\",Title)"
   ]
  },
  {
   "cell_type": "code",
   "execution_count": 10,
   "id": "338c8cbd",
   "metadata": {},
   "outputs": [],
   "source": [
    "movie[\"Clean_Title\"]=movie[\"Title\"].apply(Clean_Title)"
   ]
  },
  {
   "cell_type": "code",
   "execution_count": 11,
   "id": "5b954eb5",
   "metadata": {},
   "outputs": [
    {
     "data": {
      "text/html": [
       "<div>\n",
       "<style scoped>\n",
       "    .dataframe tbody tr th:only-of-type {\n",
       "        vertical-align: middle;\n",
       "    }\n",
       "\n",
       "    .dataframe tbody tr th {\n",
       "        vertical-align: top;\n",
       "    }\n",
       "\n",
       "    .dataframe thead th {\n",
       "        text-align: right;\n",
       "    }\n",
       "</style>\n",
       "<table border=\"1\" class=\"dataframe\">\n",
       "  <thead>\n",
       "    <tr style=\"text-align: right;\">\n",
       "      <th></th>\n",
       "      <th>Title</th>\n",
       "      <th>Genre</th>\n",
       "      <th>Clean_Title</th>\n",
       "    </tr>\n",
       "  </thead>\n",
       "  <tbody>\n",
       "    <tr>\n",
       "      <th>0</th>\n",
       "      <td>Toy Story (1995)</td>\n",
       "      <td>Animation|Adventure|Comedy</td>\n",
       "      <td>Toy Story 1995</td>\n",
       "    </tr>\n",
       "    <tr>\n",
       "      <th>1</th>\n",
       "      <td>Jumanji (1995)</td>\n",
       "      <td>Action|Adventure|Family</td>\n",
       "      <td>Jumanji 1995</td>\n",
       "    </tr>\n",
       "    <tr>\n",
       "      <th>2</th>\n",
       "      <td>Grumpier Old Men (1995)</td>\n",
       "      <td>Comedy|Romance</td>\n",
       "      <td>Grumpier Old Men 1995</td>\n",
       "    </tr>\n",
       "    <tr>\n",
       "      <th>3</th>\n",
       "      <td>Waiting to Exhale (1995)</td>\n",
       "      <td>Comedy|Drama|Romance</td>\n",
       "      <td>Waiting to Exhale 1995</td>\n",
       "    </tr>\n",
       "    <tr>\n",
       "      <th>4</th>\n",
       "      <td>Father of the Bride Part II (1995)</td>\n",
       "      <td>Comedy|Family|Romance</td>\n",
       "      <td>Father of the Bride Part II 1995</td>\n",
       "    </tr>\n",
       "    <tr>\n",
       "      <th>5</th>\n",
       "      <td>Heat (1995)</td>\n",
       "      <td>Action|Crime|Drama</td>\n",
       "      <td>Heat 1995</td>\n",
       "    </tr>\n",
       "  </tbody>\n",
       "</table>\n",
       "</div>"
      ],
      "text/plain": [
       "                                Title                       Genre  \\\n",
       "0                    Toy Story (1995)  Animation|Adventure|Comedy   \n",
       "1                      Jumanji (1995)     Action|Adventure|Family   \n",
       "2             Grumpier Old Men (1995)              Comedy|Romance   \n",
       "3            Waiting to Exhale (1995)        Comedy|Drama|Romance   \n",
       "4  Father of the Bride Part II (1995)       Comedy|Family|Romance   \n",
       "5                         Heat (1995)          Action|Crime|Drama   \n",
       "\n",
       "                        Clean_Title  \n",
       "0                    Toy Story 1995  \n",
       "1                      Jumanji 1995  \n",
       "2             Grumpier Old Men 1995  \n",
       "3            Waiting to Exhale 1995  \n",
       "4  Father of the Bride Part II 1995  \n",
       "5                         Heat 1995  "
      ]
     },
     "execution_count": 11,
     "metadata": {},
     "output_type": "execute_result"
    }
   ],
   "source": [
    "movie.head(6)"
   ]
  },
  {
   "cell_type": "code",
   "execution_count": 12,
   "id": "33a4dc14",
   "metadata": {},
   "outputs": [],
   "source": [
    "movie.drop(['Title'],axis=1,inplace=True)"
   ]
  },
  {
   "cell_type": "code",
   "execution_count": 13,
   "id": "905f8d03",
   "metadata": {},
   "outputs": [
    {
     "data": {
      "text/html": [
       "<div>\n",
       "<style scoped>\n",
       "    .dataframe tbody tr th:only-of-type {\n",
       "        vertical-align: middle;\n",
       "    }\n",
       "\n",
       "    .dataframe tbody tr th {\n",
       "        vertical-align: top;\n",
       "    }\n",
       "\n",
       "    .dataframe thead th {\n",
       "        text-align: right;\n",
       "    }\n",
       "</style>\n",
       "<table border=\"1\" class=\"dataframe\">\n",
       "  <thead>\n",
       "    <tr style=\"text-align: right;\">\n",
       "      <th></th>\n",
       "      <th>Genre</th>\n",
       "      <th>Clean_Title</th>\n",
       "    </tr>\n",
       "  </thead>\n",
       "  <tbody>\n",
       "    <tr>\n",
       "      <th>0</th>\n",
       "      <td>Animation|Adventure|Comedy</td>\n",
       "      <td>Toy Story 1995</td>\n",
       "    </tr>\n",
       "    <tr>\n",
       "      <th>1</th>\n",
       "      <td>Action|Adventure|Family</td>\n",
       "      <td>Jumanji 1995</td>\n",
       "    </tr>\n",
       "    <tr>\n",
       "      <th>2</th>\n",
       "      <td>Comedy|Romance</td>\n",
       "      <td>Grumpier Old Men 1995</td>\n",
       "    </tr>\n",
       "    <tr>\n",
       "      <th>3</th>\n",
       "      <td>Comedy|Drama|Romance</td>\n",
       "      <td>Waiting to Exhale 1995</td>\n",
       "    </tr>\n",
       "    <tr>\n",
       "      <th>4</th>\n",
       "      <td>Comedy|Family|Romance</td>\n",
       "      <td>Father of the Bride Part II 1995</td>\n",
       "    </tr>\n",
       "  </tbody>\n",
       "</table>\n",
       "</div>"
      ],
      "text/plain": [
       "                        Genre                       Clean_Title\n",
       "0  Animation|Adventure|Comedy                    Toy Story 1995\n",
       "1     Action|Adventure|Family                      Jumanji 1995\n",
       "2              Comedy|Romance             Grumpier Old Men 1995\n",
       "3        Comedy|Drama|Romance            Waiting to Exhale 1995\n",
       "4       Comedy|Family|Romance  Father of the Bride Part II 1995"
      ]
     },
     "execution_count": 13,
     "metadata": {},
     "output_type": "execute_result"
    }
   ],
   "source": [
    "movie.head(5)"
   ]
  },
  {
   "cell_type": "code",
   "execution_count": 14,
   "id": "3e050de6",
   "metadata": {},
   "outputs": [],
   "source": [
    "#build TFID Matrix\n",
    "from sklearn.feature_extraction.text import TfidfVectorizer"
   ]
  },
  {
   "cell_type": "code",
   "execution_count": 15,
   "id": "71e4ab49",
   "metadata": {},
   "outputs": [],
   "source": [
    "vc=TfidfVectorizer(ngram_range=(1,2))\n",
    "Tfid=vc.fit_transform(movie[\"Clean_Title\"])"
   ]
  },
  {
   "cell_type": "code",
   "execution_count": 16,
   "id": "4b079262",
   "metadata": {},
   "outputs": [
    {
     "data": {
      "text/plain": [
       "<40108x113206 sparse matrix of type '<class 'numpy.float64'>'\n",
       "\twith 266415 stored elements in Compressed Sparse Row format>"
      ]
     },
     "execution_count": 16,
     "metadata": {},
     "output_type": "execute_result"
    }
   ],
   "source": [
    "Tfid"
   ]
  },
  {
   "cell_type": "code",
   "execution_count": 18,
   "id": "e3851543",
   "metadata": {},
   "outputs": [],
   "source": [
    "#create a search function \n",
    "from sklearn.metrics.pairwise import cosine_similarity\n",
    "#def search(Title):\n",
    "Title= \"Toy Story\"\n",
    "Title=Clean_Title(Title)\n",
    "query_vc=vc.transform([Title])\n",
    "\n",
    "# similarity between the search title\n",
    "similarity=cosine_similarity(query_vc,Tfid).flatten()\n",
    "indices=np.argpartition(similarity,-5)[-5:]\n",
    "result=movie.iloc[indices]"
   ]
  },
  {
   "cell_type": "code",
   "execution_count": 19,
   "id": "270359b6",
   "metadata": {},
   "outputs": [
    {
     "data": {
      "text/html": [
       "<div>\n",
       "<style scoped>\n",
       "    .dataframe tbody tr th:only-of-type {\n",
       "        vertical-align: middle;\n",
       "    }\n",
       "\n",
       "    .dataframe tbody tr th {\n",
       "        vertical-align: top;\n",
       "    }\n",
       "\n",
       "    .dataframe thead th {\n",
       "        text-align: right;\n",
       "    }\n",
       "</style>\n",
       "<table border=\"1\" class=\"dataframe\">\n",
       "  <thead>\n",
       "    <tr style=\"text-align: right;\">\n",
       "      <th></th>\n",
       "      <th>Genre</th>\n",
       "      <th>Clean_Title</th>\n",
       "    </tr>\n",
       "  </thead>\n",
       "  <tbody>\n",
       "    <tr>\n",
       "      <th>25346</th>\n",
       "      <td>Animation|Short|Comedy</td>\n",
       "      <td>Toy Story Toons Small Fry 2011</td>\n",
       "    </tr>\n",
       "    <tr>\n",
       "      <th>22711</th>\n",
       "      <td>Animation|Short|Adventure</td>\n",
       "      <td>Toy Story of Terror 2013</td>\n",
       "    </tr>\n",
       "    <tr>\n",
       "      <th>0</th>\n",
       "      <td>Animation|Adventure|Comedy</td>\n",
       "      <td>Toy Story 1995</td>\n",
       "    </tr>\n",
       "    <tr>\n",
       "      <th>3028</th>\n",
       "      <td>Animation|Adventure|Comedy</td>\n",
       "      <td>Toy Story 2 1999</td>\n",
       "    </tr>\n",
       "    <tr>\n",
       "      <th>16036</th>\n",
       "      <td>Animation|Adventure|Comedy</td>\n",
       "      <td>Toy Story 3 2010</td>\n",
       "    </tr>\n",
       "  </tbody>\n",
       "</table>\n",
       "</div>"
      ],
      "text/plain": [
       "                            Genre                     Clean_Title\n",
       "25346      Animation|Short|Comedy  Toy Story Toons Small Fry 2011\n",
       "22711   Animation|Short|Adventure        Toy Story of Terror 2013\n",
       "0      Animation|Adventure|Comedy                  Toy Story 1995\n",
       "3028   Animation|Adventure|Comedy                Toy Story 2 1999\n",
       "16036  Animation|Adventure|Comedy                Toy Story 3 2010"
      ]
     },
     "execution_count": 19,
     "metadata": {},
     "output_type": "execute_result"
    }
   ],
   "source": [
    "result"
   ]
  },
  {
   "cell_type": "code",
   "execution_count": 27,
   "id": "47d2f369",
   "metadata": {},
   "outputs": [],
   "source": [
    "#create a search function \n",
    "from sklearn.metrics.pairwise import cosine_similarity\n",
    "def search(Title):\n",
    "    #Title= \"War 2008\"\n",
    "    #Title=Clean_Title(Title)\n",
    "    query_vc=vc.transform([Title])\n",
    "\n",
    "    # similarity between the search title\n",
    "    similarity=cosine_similarity(query_vc,Tfid).flatten()\n",
    "    indices=np.argpartition(similarity,-5)[-5:]\n",
    "    result=movie.iloc[indices]\n",
    "    return result"
   ]
  },
  {
   "cell_type": "code",
   "execution_count": 28,
   "id": "982bd58a",
   "metadata": {},
   "outputs": [
    {
     "data": {
      "text/html": [
       "<div>\n",
       "<style scoped>\n",
       "    .dataframe tbody tr th:only-of-type {\n",
       "        vertical-align: middle;\n",
       "    }\n",
       "\n",
       "    .dataframe tbody tr th {\n",
       "        vertical-align: top;\n",
       "    }\n",
       "\n",
       "    .dataframe thead th {\n",
       "        text-align: right;\n",
       "    }\n",
       "</style>\n",
       "<table border=\"1\" class=\"dataframe\">\n",
       "  <thead>\n",
       "    <tr style=\"text-align: right;\">\n",
       "      <th></th>\n",
       "      <th>Genre</th>\n",
       "      <th>Clean_Title</th>\n",
       "    </tr>\n",
       "  </thead>\n",
       "  <tbody>\n",
       "    <tr>\n",
       "      <th>25346</th>\n",
       "      <td>Animation|Short|Comedy</td>\n",
       "      <td>Toy Story Toons Small Fry 2011</td>\n",
       "    </tr>\n",
       "    <tr>\n",
       "      <th>22711</th>\n",
       "      <td>Animation|Short|Adventure</td>\n",
       "      <td>Toy Story of Terror 2013</td>\n",
       "    </tr>\n",
       "    <tr>\n",
       "      <th>0</th>\n",
       "      <td>Animation|Adventure|Comedy</td>\n",
       "      <td>Toy Story 1995</td>\n",
       "    </tr>\n",
       "    <tr>\n",
       "      <th>3028</th>\n",
       "      <td>Animation|Adventure|Comedy</td>\n",
       "      <td>Toy Story 2 1999</td>\n",
       "    </tr>\n",
       "    <tr>\n",
       "      <th>16036</th>\n",
       "      <td>Animation|Adventure|Comedy</td>\n",
       "      <td>Toy Story 3 2010</td>\n",
       "    </tr>\n",
       "  </tbody>\n",
       "</table>\n",
       "</div>"
      ],
      "text/plain": [
       "                            Genre                     Clean_Title\n",
       "25346      Animation|Short|Comedy  Toy Story Toons Small Fry 2011\n",
       "22711   Animation|Short|Adventure        Toy Story of Terror 2013\n",
       "0      Animation|Adventure|Comedy                  Toy Story 1995\n",
       "3028   Animation|Adventure|Comedy                Toy Story 2 1999\n",
       "16036  Animation|Adventure|Comedy                Toy Story 3 2010"
      ]
     },
     "execution_count": 28,
     "metadata": {},
     "output_type": "execute_result"
    }
   ],
   "source": [
    "result"
   ]
  },
  {
   "cell_type": "code",
   "execution_count": 29,
   "id": "a60030ac",
   "metadata": {},
   "outputs": [],
   "source": [
    "#Build Interactive Search Box\n",
    "import ipywidgets as widgets\n",
    "from IPython.display import display"
   ]
  },
  {
   "cell_type": "code",
   "execution_count": 30,
   "id": "440355f2",
   "metadata": {},
   "outputs": [
    {
     "data": {
      "application/vnd.jupyter.widget-view+json": {
       "model_id": "dd80c7f23fe847c1914a8df7f68a0805",
       "version_major": 2,
       "version_minor": 0
      },
      "text/plain": [
       "Text(value='Toy Story', description='Movie Title:')"
      ]
     },
     "metadata": {},
     "output_type": "display_data"
    },
    {
     "data": {
      "application/vnd.jupyter.widget-view+json": {
       "model_id": "4e1e47b1df044cab8265597b55a2e627",
       "version_major": 2,
       "version_minor": 0
      },
      "text/plain": [
       "Output()"
      ]
     },
     "metadata": {},
     "output_type": "display_data"
    }
   ],
   "source": [
    "movie_input=widgets.Text(\n",
    "    value=\"Toy Story\",\n",
    "    description= \"Movie Title:\",\n",
    "    disabled=False\n",
    ")\n",
    "# create an output widget\n",
    "movie_list=widgets.Output()\n",
    "def on_type(data):\n",
    "    with movie_list:\n",
    "        movie_list.clear_output()\n",
    "        Title =data[\"new\"]\n",
    "        if len(Title)>7:\n",
    "            display(search(Title))\n",
    "movie_input.observe(on_type, names='value') \n",
    "\n",
    "display(movie_input,movie_list)"
   ]
  },
  {
   "cell_type": "code",
   "execution_count": 26,
   "id": "665b98a9",
   "metadata": {},
   "outputs": [
    {
     "data": {
      "application/vnd.jupyter.widget-view+json": {
       "model_id": "d938d17ac5e049e19285cc351417afdd",
       "version_major": 2,
       "version_minor": 0
      },
      "text/plain": [
       "Text(value='Toy Story', description='Movie Title:')"
      ]
     },
     "metadata": {},
     "output_type": "display_data"
    },
    {
     "data": {
      "application/vnd.jupyter.widget-view+json": {
       "model_id": "9d5cc577c2574de9b7dc4da4938a840a",
       "version_major": 2,
       "version_minor": 0
      },
      "text/plain": [
       "Output()"
      ]
     },
     "metadata": {},
     "output_type": "display_data"
    }
   ],
   "source": [
    "movie_input=widgets.Text(\n",
    "    value=\"Toy Story\",\n",
    "    description= \"Movie Title:\",\n",
    "    disabled=False\n",
    ")\n",
    "# create an output widget\n",
    "movie_list=widgets.Output()\n",
    "def on_type(data):\n",
    "    with movie_list:\n",
    "        movie_list.clear_output()\n",
    "        Title =data[\"new\"]\n",
    "        if len(Title)>7:\n",
    "            display(search(Title))\n",
    "movie_input.observe(on_type, names='value') \n",
    "\n",
    "display(movie_input,movie_list)"
   ]
  },
  {
   "cell_type": "code",
   "execution_count": null,
   "id": "0ccaef93",
   "metadata": {},
   "outputs": [],
   "source": []
  }
 ],
 "metadata": {
  "kernelspec": {
   "display_name": "Python 3 (ipykernel)",
   "language": "python",
   "name": "python3"
  },
  "language_info": {
   "codemirror_mode": {
    "name": "ipython",
    "version": 3
   },
   "file_extension": ".py",
   "mimetype": "text/x-python",
   "name": "python",
   "nbconvert_exporter": "python",
   "pygments_lexer": "ipython3",
   "version": "3.9.7"
  }
 },
 "nbformat": 4,
 "nbformat_minor": 5
}
